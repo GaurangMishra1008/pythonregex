{
 "cells": [
  {
   "cell_type": "code",
   "execution_count": 21,
   "id": "52c5b75b",
   "metadata": {},
   "outputs": [
    {
     "name": "stdout",
     "output_type": "stream",
     "text": [
      "Enter a number between 1-4\n",
      "1 => Show Date \n",
      "2=>Print List Directories \n",
      "3=> Make a Folder \n",
      "4=>Send Whatsapp Msg\n",
      " 1\n",
      "2023-08-02 07:24:02.849863\n"
     ]
    }
   ],
   "source": [
    "import os\n",
    "import datetime\n",
    "import pywhatkit\n",
    "\n",
    "inp=int(input(\"Enter a number between 1-4\\n1 => Show Date \\n2=> Print List Directories \\n3=> Make a Folder \\n4=>Send Whatsapp Msg\\n \"))\n",
    "\n",
    "if(inp==1):\n",
    "    print(datetime.datetime.now())\n",
    "elif(inp==2):\n",
    "    path = \"C:\\\\Users\\\\Gaura\\\\OneDrive\\\\Desktop\"\n",
    "    dir_list = os.listdir(path) \n",
    "    print(\"Files and directories in '\", path, \"' :\")  \n",
    "    # print the list \n",
    "    print(dir_list) \n",
    "elif(inp==3):\n",
    "    dir=input(\"Enter the name of directory\")\n",
    "    parent_dir = \"C:\\\\Users\\\\Gaura\\\\OneDrive\\\\Desktop\" \n",
    "    path = os.path.join(parent_dir,dir)\n",
    "    os.mkdir(path) \n",
    "    print(\"Directory '%s' created \"%dir) \n",
    "elif(inp==4):\n",
    "    pywhatkit.sendwhatmsg(\"+918005524478\",\"Ji!\",20, 30)\n",
    "else:\n",
    "    print(\"Enter valid input!\")"
   ]
  },
  {
   "cell_type": "code",
   "execution_count": 22,
   "id": "6d988912",
   "metadata": {},
   "outputs": [
    {
     "name": "stdout",
     "output_type": "stream",
     "text": [
      "enter a chark\n",
      "Not vowel\n"
     ]
    }
   ],
   "source": [
    "a=input(\"enter a char\")\n",
    "if(a==\"a\" or a==\"A\" or a==\"e\" or a==\"E\" or a==\"o\" or a==\"O\" or a==\"i\" or a==\"I\" or a==\"U\" or a==\"u\" ):\n",
    "  print(\"vowel\")\n",
    "else:\n",
    "  print(\"Not vowel\")"
   ]
  },
  {
   "cell_type": "code",
   "execution_count": 23,
   "id": "d0ff8eb1",
   "metadata": {},
   "outputs": [
    {
     "name": "stdout",
     "output_type": "stream",
     "text": [
      "enter your gmail\n",
      "s\n",
      "Not\n"
     ]
    }
   ],
   "source": [
    "a=input(\"enter your gmail\\n\")\n",
    "if(\"@gmail.com\" in a):\n",
    "  print(\"yes Valid\")\n",
    "else:\n",
    "  print(\"Not\")\n",
    "# take character from user and check wherether the character is not a vowel"
   ]
  },
  {
   "cell_type": "code",
   "execution_count": 28,
   "id": "c06e9b40",
   "metadata": {},
   "outputs": [
    {
     "name": "stdout",
     "output_type": "stream",
     "text": [
      "enter a number22\n",
      "even\n"
     ]
    }
   ],
   "source": [
    "a=int(input(\"enter a number\"))\n",
    "if(type(a)==int):\n",
    "    if(a%2==0):\n",
    "        print(\"even\")\n",
    "    else:\n",
    "     print(\"odd\")\n",
    "else:\n",
    "  print(\"enter a float or int\")"
   ]
  },
  {
   "cell_type": "code",
   "execution_count": 36,
   "id": "a0e36227",
   "metadata": {},
   "outputs": [
    {
     "name": "stdout",
     "output_type": "stream",
     "text": [
      "enter a number22\n",
      "Value is more than 18\n",
      "value is between 25 and 35\n"
     ]
    }
   ],
   "source": [
    "a=int(input(\"enter a number\"))\n",
    "if(a>18):\n",
    "    print(\"Value is more than 18\")\n",
    "    if(a>25 or a<35):\n",
    "      print(\"value is between 25 and 35\")\n",
    "    elif(a>40 or a<35):\n",
    "      print(\"value is more than 40\")\n",
    "else:\n",
    "  print(\"Value is small\")"
   ]
  },
  {
   "cell_type": "code",
   "execution_count": 37,
   "id": "a9cae7f2",
   "metadata": {},
   "outputs": [
    {
     "name": "stdout",
     "output_type": "stream",
     "text": [
      "a is small\n"
     ]
    }
   ],
   "source": [
    " a=5\n",
    "b=6\n",
    "c=10\n",
    "if(a<b and a<c):\n",
    "  print(\"a is small\")\n",
    "elif(b<c and b<a):\n",
    "  print(\"B is small\")\n",
    "elif(c<a and c<b):\n",
    "  print(\"c is small\")\n",
    "else:\n",
    "  print(\"invalid\")"
   ]
  },
  {
   "cell_type": "code",
   "execution_count": 38,
   "id": "a2ed4fd6",
   "metadata": {},
   "outputs": [
    {
     "name": "stdout",
     "output_type": "stream",
     "text": [
      "21\n"
     ]
    }
   ],
   "source": [
    "a=5\n",
    "b=6\n",
    "c=10\n",
    "# variable int\n",
    "if(type(a) is int and type(b) is int and type(c) is int):\n",
    "  print(a+b+c)"
   ]
  },
  {
   "cell_type": "code",
   "execution_count": null,
   "id": "ef482f02",
   "metadata": {},
   "outputs": [],
   "source": []
  }
 ],
 "metadata": {
  "kernelspec": {
   "display_name": "Python 3 (ipykernel)",
   "language": "python",
   "name": "python3"
  },
  "language_info": {
   "codemirror_mode": {
    "name": "ipython",
    "version": 3
   },
   "file_extension": ".py",
   "mimetype": "text/x-python",
   "name": "python",
   "nbconvert_exporter": "python",
   "pygments_lexer": "ipython3",
   "version": "3.11.3"
  }
 },
 "nbformat": 4,
 "nbformat_minor": 5
}
